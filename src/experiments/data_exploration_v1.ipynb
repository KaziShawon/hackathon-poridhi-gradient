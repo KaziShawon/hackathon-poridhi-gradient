{
 "cells": [
  {
   "cell_type": "code",
   "execution_count": null,
   "id": "56918336",
   "metadata": {},
   "outputs": [],
   "source": [
    "import os\n",
    "import pandas as pd\n",
    "from datasets import load_dataset\n",
    "\n"
   ]
  },
  {
   "cell_type": "code",
   "execution_count": 12,
   "id": "7ba09948",
   "metadata": {},
   "outputs": [
    {
     "name": "stderr",
     "output_type": "stream",
     "text": [
      "Generating train split: 100%|██████████| 21621/21621 [00:00<00:00, 343054.36 examples/s]\n",
      "Generating test split: 100%|██████████| 1100/1100 [00:00<00:00, 60112.24 examples/s]\n",
      "Generating validation split: 100%|██████████| 5406/5406 [00:00<00:00, 330622.29 examples/s]\n"
     ]
    }
   ],
   "source": [
    "ds_cm_trn = load_dataset(\"wdc/products-2017\", \"watches_large\", split='train')\n",
    "ds_cm_tst = load_dataset(\"wdc/products-2017\", \"watches_large\", split='test')\n",
    "ds_cm_val = load_dataset(\"wdc/products-2017\", \"watches_large\", split='validation')"
   ]
  },
  {
   "cell_type": "code",
   "execution_count": 13,
   "id": "64efbc8b",
   "metadata": {},
   "outputs": [],
   "source": [
    "ds_cm_trn.to_pandas().to_csv('../datasets/train/watch_lrg_train.csv', index=False)\n",
    "ds_cm_tst.to_pandas().to_csv('../datasets/test/watch_lrg_test.csv', index=False)\n",
    "ds_cm_val.to_pandas().to_csv('../datasets/validation/watch_lrg_val.csv', index=False)"
   ]
  },
  {
   "cell_type": "code",
   "execution_count": null,
   "id": "8b56ebf4",
   "metadata": {},
   "outputs": [],
   "source": [
    "import os\n",
    "import pandas as pd\n",
    "\n",
    "folder = \"../datasets/validation\"\n",
    "\n",
    "csv_files = []\n",
    "\n",
    "for file in os.listdir(folder):\n",
    "    if file.endswith('.csv'):\n",
    "        csv_files.append(os.path.join(folder, file))\n",
    "\n",
    "dfs = [pd.read_csv(f) for f in csv_files]\n",
    "merged_df = pd.concat(dfs, ignore_index=True)\n",
    "merged_df.to_csv(f'{folder}/{folder.split('/')[-1]}_merged.csv', index=False)"
   ]
  },
  {
   "cell_type": "code",
   "execution_count": 69,
   "id": "4b4ba08e",
   "metadata": {},
   "outputs": [],
   "source": [
    "folder = \"../datasets\"\n",
    "\n",
    "csv_files = []\n",
    "\n",
    "for root, _, files in os.walk(folder):\n",
    "    for file in files:\n",
    "        file_path = os.path.join(root, file)\n",
    "        if file.endswith('.csv') and (file.startswith('train') or file.startswith('test') or file.startswith('validation')):\n",
    "            csv_files.append(file_path)\n",
    "\n",
    "dfs = [pd.read_csv(f) for f in csv_files]\n",
    "allmerged_df = pd.concat(dfs, ignore_index=True)\n",
    "allmerged_df.to_csv(f'all_merged.csv', index=False)"
   ]
  },
  {
   "cell_type": "code",
   "execution_count": 67,
   "id": "90ec71dd",
   "metadata": {},
   "outputs": [
    {
     "data": {
      "text/plain": [
       "107810"
      ]
     },
     "execution_count": 67,
     "metadata": {},
     "output_type": "execute_result"
    }
   ],
   "source": [
    "allmerged_df.shape[0]"
   ]
  },
  {
   "cell_type": "code",
   "execution_count": 61,
   "id": "d0efc49e",
   "metadata": {},
   "outputs": [
    {
     "data": {
      "text/plain": [
       "107810"
      ]
     },
     "execution_count": 61,
     "metadata": {},
     "output_type": "execute_result"
    }
   ],
   "source": [
    "allmerged_df.shape[0]"
   ]
  },
  {
   "cell_type": "code",
   "execution_count": 70,
   "id": "44bc873d",
   "metadata": {},
   "outputs": [],
   "source": [
    "allmerged_df.dropna(inplace=True, ignore_index=True)"
   ]
  },
  {
   "cell_type": "code",
   "execution_count": 72,
   "id": "d860f858",
   "metadata": {},
   "outputs": [],
   "source": [
    "allmerged_df.to_csv('no_null_data.csv', index=False)"
   ]
  }
 ],
 "metadata": {
  "kernelspec": {
   "display_name": "hackathon",
   "language": "python",
   "name": "brainstation-py3.11"
  },
  "language_info": {
   "codemirror_mode": {
    "name": "ipython",
    "version": 3
   },
   "file_extension": ".py",
   "mimetype": "text/x-python",
   "name": "python",
   "nbconvert_exporter": "python",
   "pygments_lexer": "ipython3",
   "version": "3.12.8"
  }
 },
 "nbformat": 4,
 "nbformat_minor": 5
}
