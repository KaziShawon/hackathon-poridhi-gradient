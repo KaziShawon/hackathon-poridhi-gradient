{
 "cells": [
  {
   "cell_type": "code",
   "execution_count": null,
   "id": "56918336",
   "metadata": {},
   "outputs": [],
   "source": []
  }
 ],
 "metadata": {
  "kernelspec": {
   "display_name": "hackathon",
   "language": "python",
   "name": "brainstation-py3.11"
  },
  "language_info": {
   "name": "python",
   "version": "3.12.8"
  }
 },
 "nbformat": 4,
 "nbformat_minor": 5
}
