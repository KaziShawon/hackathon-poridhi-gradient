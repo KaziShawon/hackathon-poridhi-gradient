{
 "cells": [
  {
   "cell_type": "code",
   "execution_count": 1,
   "id": "66e61341",
   "metadata": {},
   "outputs": [
    {
     "name": "stderr",
     "output_type": "stream",
     "text": [
      "c:\\Users\\Shawon\\AppData\\Local\\pypoetry\\Cache\\virtualenvs\\brainstation-hGinJSOe-py3.11\\Lib\\site-packages\\tqdm\\auto.py:21: TqdmWarning: IProgress not found. Please update jupyter and ipywidgets. See https://ipywidgets.readthedocs.io/en/stable/user_install.html\n",
      "  from .autonotebook import tqdm as notebook_tqdm\n"
     ]
    },
    {
     "name": "stdout",
     "output_type": "stream",
     "text": [
      "resource module not available on Windows\n"
     ]
    }
   ],
   "source": [
    "import os\n",
    "import re\n",
    "import numpy as np\n",
    "import pandas as pd\n",
    "\n",
    "from llama_index.core import (\n",
    "    SimpleDirectoryReader,\n",
    "    load_index_from_storage,\n",
    "    VectorStoreIndex,\n",
    "    StorageContext,\n",
    "    Settings,\n",
    ")\n",
    "from llama_index.vector_stores.faiss import FaissVectorStore\n",
    "from IPython.display import Markdown, display\n",
    "\n",
    "from llama_index.core.node_parser import SentenceSplitter\n",
    "from llama_index.core.extractors import (\n",
    "    SummaryExtractor,\n",
    "    QuestionsAnsweredExtractor,\n",
    "    TitleExtractor,\n",
    "    KeywordExtractor,\n",
    ")\n",
    "from llama_index.extractors.entity import EntityExtractor\n",
    "\n",
    "from llama_index.llms.ollama import Ollama\n",
    "from llama_index.embeddings.huggingface import HuggingFaceEmbedding\n",
    "from llama_index.core.ingestion import IngestionPipeline\n",
    "\n",
    "from llama_index.vector_stores.redis import RedisVectorStore\n",
    "from llama_index.retrievers.bm25 import BM25Retriever\n",
    "\n",
    "import asyncio\n",
    "import nest_asyncio\n",
    "\n",
    "nest_asyncio.apply()"
   ]
  },
  {
   "cell_type": "code",
   "execution_count": 2,
   "id": "585b2276",
   "metadata": {},
   "outputs": [],
   "source": [
    "llm = Ollama(model=\"gemma:2b\", request_timeout=30.0)\n",
    "embed_model = HuggingFaceEmbedding(model_name='sentence-transformers/all-MiniLM-L6-v2')"
   ]
  },
  {
   "cell_type": "code",
   "execution_count": 3,
   "id": "96db09ae",
   "metadata": {},
   "outputs": [],
   "source": [
    "Settings.llm = llm\n",
    "Settings.embed_model = embed_model"
   ]
  },
  {
   "cell_type": "code",
   "execution_count": 4,
   "id": "0a13fcb3",
   "metadata": {},
   "outputs": [
    {
     "name": "stderr",
     "output_type": "stream",
     "text": [
      "  0%|          | 0/157095 [00:09<?, ?it/s]\n"
     ]
    },
    {
     "ename": "ConnectionError",
     "evalue": "Failed to connect to Ollama. Please check that Ollama is downloaded, running and accessible. https://ollama.com/download",
     "output_type": "error",
     "traceback": [
      "\u001b[31m---------------------------------------------------------------------------\u001b[39m",
      "\u001b[31mConnectionError\u001b[39m                           Traceback (most recent call last)",
      "\u001b[36mFile \u001b[39m\u001b[32m<timed exec>:13\u001b[39m\n",
      "\u001b[36mFile \u001b[39m\u001b[32mc:\\Users\\Shawon\\AppData\\Local\\pypoetry\\Cache\\virtualenvs\\brainstation-hGinJSOe-py3.11\\Lib\\site-packages\\llama_index\\core\\instrumentation\\dispatcher.py:322\u001b[39m, in \u001b[36mDispatcher.span.<locals>.wrapper\u001b[39m\u001b[34m(func, instance, args, kwargs)\u001b[39m\n\u001b[32m    319\u001b[39m             _logger.debug(\u001b[33mf\u001b[39m\u001b[33m\"\u001b[39m\u001b[33mFailed to reset active_span_id: \u001b[39m\u001b[38;5;132;01m{\u001b[39;00me\u001b[38;5;132;01m}\u001b[39;00m\u001b[33m\"\u001b[39m)\n\u001b[32m    321\u001b[39m \u001b[38;5;28;01mtry\u001b[39;00m:\n\u001b[32m--> \u001b[39m\u001b[32m322\u001b[39m     result = \u001b[43mfunc\u001b[49m\u001b[43m(\u001b[49m\u001b[43m*\u001b[49m\u001b[43margs\u001b[49m\u001b[43m,\u001b[49m\u001b[43m \u001b[49m\u001b[43m*\u001b[49m\u001b[43m*\u001b[49m\u001b[43mkwargs\u001b[49m\u001b[43m)\u001b[49m\n\u001b[32m    323\u001b[39m     \u001b[38;5;28;01mif\u001b[39;00m \u001b[38;5;28misinstance\u001b[39m(result, asyncio.Future):\n\u001b[32m    324\u001b[39m         \u001b[38;5;66;03m# If the result is a Future, wrap it\u001b[39;00m\n\u001b[32m    325\u001b[39m         new_future = asyncio.ensure_future(result)\n",
      "\u001b[36mFile \u001b[39m\u001b[32mc:\\Users\\Shawon\\AppData\\Local\\pypoetry\\Cache\\virtualenvs\\brainstation-hGinJSOe-py3.11\\Lib\\site-packages\\llama_index\\core\\ingestion\\pipeline.py:545\u001b[39m, in \u001b[36mIngestionPipeline.run\u001b[39m\u001b[34m(self, show_progress, documents, nodes, cache_collection, in_place, store_doc_text, num_workers, **kwargs)\u001b[39m\n\u001b[32m    543\u001b[39m         nodes = reduce(\u001b[38;5;28;01mlambda\u001b[39;00m x, y: x + y, nodes_parallel, [])  \u001b[38;5;66;03m# type: ignore\u001b[39;00m\n\u001b[32m    544\u001b[39m \u001b[38;5;28;01melse\u001b[39;00m:\n\u001b[32m--> \u001b[39m\u001b[32m545\u001b[39m     nodes = \u001b[43mrun_transformations\u001b[49m\u001b[43m(\u001b[49m\n\u001b[32m    546\u001b[39m \u001b[43m        \u001b[49m\u001b[43mnodes_to_run\u001b[49m\u001b[43m,\u001b[49m\n\u001b[32m    547\u001b[39m \u001b[43m        \u001b[49m\u001b[38;5;28;43mself\u001b[39;49m\u001b[43m.\u001b[49m\u001b[43mtransformations\u001b[49m\u001b[43m,\u001b[49m\n\u001b[32m    548\u001b[39m \u001b[43m        \u001b[49m\u001b[43mshow_progress\u001b[49m\u001b[43m=\u001b[49m\u001b[43mshow_progress\u001b[49m\u001b[43m,\u001b[49m\n\u001b[32m    549\u001b[39m \u001b[43m        \u001b[49m\u001b[43mcache\u001b[49m\u001b[43m=\u001b[49m\u001b[38;5;28;43mself\u001b[39;49m\u001b[43m.\u001b[49m\u001b[43mcache\u001b[49m\u001b[43m \u001b[49m\u001b[38;5;28;43;01mif\u001b[39;49;00m\u001b[43m \u001b[49m\u001b[38;5;129;43;01mnot\u001b[39;49;00m\u001b[43m \u001b[49m\u001b[38;5;28;43mself\u001b[39;49m\u001b[43m.\u001b[49m\u001b[43mdisable_cache\u001b[49m\u001b[43m \u001b[49m\u001b[38;5;28;43;01melse\u001b[39;49;00m\u001b[43m \u001b[49m\u001b[38;5;28;43;01mNone\u001b[39;49;00m\u001b[43m,\u001b[49m\n\u001b[32m    550\u001b[39m \u001b[43m        \u001b[49m\u001b[43mcache_collection\u001b[49m\u001b[43m=\u001b[49m\u001b[43mcache_collection\u001b[49m\u001b[43m,\u001b[49m\n\u001b[32m    551\u001b[39m \u001b[43m        \u001b[49m\u001b[43min_place\u001b[49m\u001b[43m=\u001b[49m\u001b[43min_place\u001b[49m\u001b[43m,\u001b[49m\n\u001b[32m    552\u001b[39m \u001b[43m        \u001b[49m\u001b[43m*\u001b[49m\u001b[43m*\u001b[49m\u001b[43mkwargs\u001b[49m\u001b[43m,\u001b[49m\n\u001b[32m    553\u001b[39m \u001b[43m    \u001b[49m\u001b[43m)\u001b[49m\n\u001b[32m    555\u001b[39m nodes = nodes \u001b[38;5;129;01mor\u001b[39;00m []\n\u001b[32m    557\u001b[39m \u001b[38;5;28;01mif\u001b[39;00m \u001b[38;5;28mself\u001b[39m.vector_store \u001b[38;5;129;01mis\u001b[39;00m \u001b[38;5;129;01mnot\u001b[39;00m \u001b[38;5;28;01mNone\u001b[39;00m:\n",
      "\u001b[36mFile \u001b[39m\u001b[32mc:\\Users\\Shawon\\AppData\\Local\\pypoetry\\Cache\\virtualenvs\\brainstation-hGinJSOe-py3.11\\Lib\\site-packages\\llama_index\\core\\ingestion\\pipeline.py:97\u001b[39m, in \u001b[36mrun_transformations\u001b[39m\u001b[34m(nodes, transformations, in_place, cache, cache_collection, **kwargs)\u001b[39m\n\u001b[32m     95\u001b[39m         nodes = cached_nodes\n\u001b[32m     96\u001b[39m     \u001b[38;5;28;01melse\u001b[39;00m:\n\u001b[32m---> \u001b[39m\u001b[32m97\u001b[39m         nodes = \u001b[43mtransform\u001b[49m\u001b[43m(\u001b[49m\u001b[43mnodes\u001b[49m\u001b[43m,\u001b[49m\u001b[43m \u001b[49m\u001b[43m*\u001b[49m\u001b[43m*\u001b[49m\u001b[43mkwargs\u001b[49m\u001b[43m)\u001b[49m\n\u001b[32m     98\u001b[39m         cache.put(\u001b[38;5;28mhash\u001b[39m, nodes, collection=cache_collection)\n\u001b[32m     99\u001b[39m \u001b[38;5;28;01melse\u001b[39;00m:\n",
      "\u001b[36mFile \u001b[39m\u001b[32mc:\\Users\\Shawon\\AppData\\Local\\pypoetry\\Cache\\virtualenvs\\brainstation-hGinJSOe-py3.11\\Lib\\site-packages\\llama_index\\core\\instrumentation\\dispatcher.py:322\u001b[39m, in \u001b[36mDispatcher.span.<locals>.wrapper\u001b[39m\u001b[34m(func, instance, args, kwargs)\u001b[39m\n\u001b[32m    319\u001b[39m             _logger.debug(\u001b[33mf\u001b[39m\u001b[33m\"\u001b[39m\u001b[33mFailed to reset active_span_id: \u001b[39m\u001b[38;5;132;01m{\u001b[39;00me\u001b[38;5;132;01m}\u001b[39;00m\u001b[33m\"\u001b[39m)\n\u001b[32m    321\u001b[39m \u001b[38;5;28;01mtry\u001b[39;00m:\n\u001b[32m--> \u001b[39m\u001b[32m322\u001b[39m     result = \u001b[43mfunc\u001b[49m\u001b[43m(\u001b[49m\u001b[43m*\u001b[49m\u001b[43margs\u001b[49m\u001b[43m,\u001b[49m\u001b[43m \u001b[49m\u001b[43m*\u001b[49m\u001b[43m*\u001b[49m\u001b[43mkwargs\u001b[49m\u001b[43m)\u001b[49m\n\u001b[32m    323\u001b[39m     \u001b[38;5;28;01mif\u001b[39;00m \u001b[38;5;28misinstance\u001b[39m(result, asyncio.Future):\n\u001b[32m    324\u001b[39m         \u001b[38;5;66;03m# If the result is a Future, wrap it\u001b[39;00m\n\u001b[32m    325\u001b[39m         new_future = asyncio.ensure_future(result)\n",
      "\u001b[36mFile \u001b[39m\u001b[32mc:\\Users\\Shawon\\AppData\\Local\\pypoetry\\Cache\\virtualenvs\\brainstation-hGinJSOe-py3.11\\Lib\\site-packages\\llama_index\\core\\extractors\\interface.py:160\u001b[39m, in \u001b[36mBaseExtractor.__call__\u001b[39m\u001b[34m(self, nodes, **kwargs)\u001b[39m\n\u001b[32m    152\u001b[39m \u001b[38;5;28;01mdef\u001b[39;00m\u001b[38;5;250m \u001b[39m\u001b[34m__call__\u001b[39m(\u001b[38;5;28mself\u001b[39m, nodes: Sequence[BaseNode], **kwargs: Any) -> List[BaseNode]:\n\u001b[32m    153\u001b[39m \u001b[38;5;250m    \u001b[39m\u001b[33;03m\"\"\"Post process nodes parsed from documents.\u001b[39;00m\n\u001b[32m    154\u001b[39m \n\u001b[32m    155\u001b[39m \u001b[33;03m    Allows extractors to be chained.\u001b[39;00m\n\u001b[32m   (...)\u001b[39m\u001b[32m    158\u001b[39m \u001b[33;03m        nodes (List[BaseNode]): nodes to post-process\u001b[39;00m\n\u001b[32m    159\u001b[39m \u001b[33;03m    \"\"\"\u001b[39;00m\n\u001b[32m--> \u001b[39m\u001b[32m160\u001b[39m     \u001b[38;5;28;01mreturn\u001b[39;00m \u001b[38;5;28;43mself\u001b[39;49m\u001b[43m.\u001b[49m\u001b[43mprocess_nodes\u001b[49m\u001b[43m(\u001b[49m\u001b[43mnodes\u001b[49m\u001b[43m,\u001b[49m\u001b[43m \u001b[49m\u001b[43m*\u001b[49m\u001b[43m*\u001b[49m\u001b[43mkwargs\u001b[49m\u001b[43m)\u001b[49m\n",
      "\u001b[36mFile \u001b[39m\u001b[32mc:\\Users\\Shawon\\AppData\\Local\\pypoetry\\Cache\\virtualenvs\\brainstation-hGinJSOe-py3.11\\Lib\\site-packages\\llama_index\\core\\extractors\\interface.py:143\u001b[39m, in \u001b[36mBaseExtractor.process_nodes\u001b[39m\u001b[34m(self, nodes, excluded_embed_metadata_keys, excluded_llm_metadata_keys, **kwargs)\u001b[39m\n\u001b[32m    136\u001b[39m \u001b[38;5;28;01mdef\u001b[39;00m\u001b[38;5;250m \u001b[39m\u001b[34mprocess_nodes\u001b[39m(\n\u001b[32m    137\u001b[39m     \u001b[38;5;28mself\u001b[39m,\n\u001b[32m    138\u001b[39m     nodes: Sequence[BaseNode],\n\u001b[32m   (...)\u001b[39m\u001b[32m    141\u001b[39m     **kwargs: Any,\n\u001b[32m    142\u001b[39m ) -> List[BaseNode]:\n\u001b[32m--> \u001b[39m\u001b[32m143\u001b[39m     \u001b[38;5;28;01mreturn\u001b[39;00m \u001b[43masyncio_run\u001b[49m\u001b[43m(\u001b[49m\n\u001b[32m    144\u001b[39m \u001b[43m        \u001b[49m\u001b[38;5;28;43mself\u001b[39;49m\u001b[43m.\u001b[49m\u001b[43maprocess_nodes\u001b[49m\u001b[43m(\u001b[49m\n\u001b[32m    145\u001b[39m \u001b[43m            \u001b[49m\u001b[43mnodes\u001b[49m\u001b[43m,\u001b[49m\n\u001b[32m    146\u001b[39m \u001b[43m            \u001b[49m\u001b[43mexcluded_embed_metadata_keys\u001b[49m\u001b[43m=\u001b[49m\u001b[43mexcluded_embed_metadata_keys\u001b[49m\u001b[43m,\u001b[49m\n\u001b[32m    147\u001b[39m \u001b[43m            \u001b[49m\u001b[43mexcluded_llm_metadata_keys\u001b[49m\u001b[43m=\u001b[49m\u001b[43mexcluded_llm_metadata_keys\u001b[49m\u001b[43m,\u001b[49m\n\u001b[32m    148\u001b[39m \u001b[43m            \u001b[49m\u001b[43m*\u001b[49m\u001b[43m*\u001b[49m\u001b[43mkwargs\u001b[49m\u001b[43m,\u001b[49m\n\u001b[32m    149\u001b[39m \u001b[43m        \u001b[49m\u001b[43m)\u001b[49m\n\u001b[32m    150\u001b[39m \u001b[43m    \u001b[49m\u001b[43m)\u001b[49m\n",
      "\u001b[36mFile \u001b[39m\u001b[32mc:\\Users\\Shawon\\AppData\\Local\\pypoetry\\Cache\\virtualenvs\\brainstation-hGinJSOe-py3.11\\Lib\\site-packages\\llama_index\\core\\async_utils.py:33\u001b[39m, in \u001b[36masyncio_run\u001b[39m\u001b[34m(coro)\u001b[39m\n\u001b[32m     30\u001b[39m     loop = asyncio.get_event_loop()\n\u001b[32m     32\u001b[39m     \u001b[38;5;66;03m# If we're here, there's an existing loop but it's not running\u001b[39;00m\n\u001b[32m---> \u001b[39m\u001b[32m33\u001b[39m     \u001b[38;5;28;01mreturn\u001b[39;00m \u001b[43mloop\u001b[49m\u001b[43m.\u001b[49m\u001b[43mrun_until_complete\u001b[49m\u001b[43m(\u001b[49m\u001b[43mcoro\u001b[49m\u001b[43m)\u001b[49m\n\u001b[32m     35\u001b[39m \u001b[38;5;28;01mexcept\u001b[39;00m \u001b[38;5;167;01mRuntimeError\u001b[39;00m \u001b[38;5;28;01mas\u001b[39;00m e:\n\u001b[32m     36\u001b[39m     \u001b[38;5;66;03m# If we can't get the event loop, we're likely in a different thread, or its already running\u001b[39;00m\n\u001b[32m     37\u001b[39m     \u001b[38;5;28;01mtry\u001b[39;00m:\n",
      "\u001b[36mFile \u001b[39m\u001b[32mc:\\Users\\Shawon\\AppData\\Local\\pypoetry\\Cache\\virtualenvs\\brainstation-hGinJSOe-py3.11\\Lib\\site-packages\\nest_asyncio.py:98\u001b[39m, in \u001b[36m_patch_loop.<locals>.run_until_complete\u001b[39m\u001b[34m(self, future)\u001b[39m\n\u001b[32m     95\u001b[39m \u001b[38;5;28;01mif\u001b[39;00m \u001b[38;5;129;01mnot\u001b[39;00m f.done():\n\u001b[32m     96\u001b[39m     \u001b[38;5;28;01mraise\u001b[39;00m \u001b[38;5;167;01mRuntimeError\u001b[39;00m(\n\u001b[32m     97\u001b[39m         \u001b[33m'\u001b[39m\u001b[33mEvent loop stopped before Future completed.\u001b[39m\u001b[33m'\u001b[39m)\n\u001b[32m---> \u001b[39m\u001b[32m98\u001b[39m \u001b[38;5;28;01mreturn\u001b[39;00m \u001b[43mf\u001b[49m\u001b[43m.\u001b[49m\u001b[43mresult\u001b[49m\u001b[43m(\u001b[49m\u001b[43m)\u001b[49m\n",
      "\u001b[36mFile \u001b[39m\u001b[32m~\\.pyenv\\pyenv-win\\versions\\3.12.8\\Lib\\asyncio\\futures.py:202\u001b[39m, in \u001b[36mFuture.result\u001b[39m\u001b[34m(self)\u001b[39m\n\u001b[32m    200\u001b[39m \u001b[38;5;28mself\u001b[39m.__log_traceback = \u001b[38;5;28;01mFalse\u001b[39;00m\n\u001b[32m    201\u001b[39m \u001b[38;5;28;01mif\u001b[39;00m \u001b[38;5;28mself\u001b[39m._exception \u001b[38;5;129;01mis\u001b[39;00m \u001b[38;5;129;01mnot\u001b[39;00m \u001b[38;5;28;01mNone\u001b[39;00m:\n\u001b[32m--> \u001b[39m\u001b[32m202\u001b[39m     \u001b[38;5;28;01mraise\u001b[39;00m \u001b[38;5;28mself\u001b[39m._exception.with_traceback(\u001b[38;5;28mself\u001b[39m._exception_tb)\n\u001b[32m    203\u001b[39m \u001b[38;5;28;01mreturn\u001b[39;00m \u001b[38;5;28mself\u001b[39m._result\n",
      "\u001b[36mFile \u001b[39m\u001b[32m~\\.pyenv\\pyenv-win\\versions\\3.12.8\\Lib\\asyncio\\tasks.py:314\u001b[39m, in \u001b[36mTask.__step_run_and_handle_result\u001b[39m\u001b[34m(***failed resolving arguments***)\u001b[39m\n\u001b[32m    310\u001b[39m \u001b[38;5;28;01mtry\u001b[39;00m:\n\u001b[32m    311\u001b[39m     \u001b[38;5;28;01mif\u001b[39;00m exc \u001b[38;5;129;01mis\u001b[39;00m \u001b[38;5;28;01mNone\u001b[39;00m:\n\u001b[32m    312\u001b[39m         \u001b[38;5;66;03m# We use the `send` method directly, because coroutines\u001b[39;00m\n\u001b[32m    313\u001b[39m         \u001b[38;5;66;03m# don't have `__iter__` and `__next__` methods.\u001b[39;00m\n\u001b[32m--> \u001b[39m\u001b[32m314\u001b[39m         result = \u001b[43mcoro\u001b[49m\u001b[43m.\u001b[49m\u001b[43msend\u001b[49m\u001b[43m(\u001b[49m\u001b[38;5;28;43;01mNone\u001b[39;49;00m\u001b[43m)\u001b[49m\n\u001b[32m    315\u001b[39m     \u001b[38;5;28;01melse\u001b[39;00m:\n\u001b[32m    316\u001b[39m         result = coro.throw(exc)\n",
      "\u001b[36mFile \u001b[39m\u001b[32mc:\\Users\\Shawon\\AppData\\Local\\pypoetry\\Cache\\virtualenvs\\brainstation-hGinJSOe-py3.11\\Lib\\site-packages\\llama_index\\core\\extractors\\interface.py:121\u001b[39m, in \u001b[36mBaseExtractor.aprocess_nodes\u001b[39m\u001b[34m(self, nodes, excluded_embed_metadata_keys, excluded_llm_metadata_keys, **kwargs)\u001b[39m\n\u001b[32m    118\u001b[39m \u001b[38;5;28;01melse\u001b[39;00m:\n\u001b[32m    119\u001b[39m     new_nodes = [deepcopy(node) \u001b[38;5;28;01mfor\u001b[39;00m node \u001b[38;5;129;01min\u001b[39;00m nodes]\n\u001b[32m--> \u001b[39m\u001b[32m121\u001b[39m cur_metadata_list = \u001b[38;5;28;01mawait\u001b[39;00m \u001b[38;5;28mself\u001b[39m.aextract(new_nodes)\n\u001b[32m    122\u001b[39m \u001b[38;5;28;01mfor\u001b[39;00m idx, node \u001b[38;5;129;01min\u001b[39;00m \u001b[38;5;28menumerate\u001b[39m(new_nodes):\n\u001b[32m    123\u001b[39m     node.metadata.update(cur_metadata_list[idx])\n",
      "\u001b[36mFile \u001b[39m\u001b[32mc:\\Users\\Shawon\\AppData\\Local\\pypoetry\\Cache\\virtualenvs\\brainstation-hGinJSOe-py3.11\\Lib\\site-packages\\llama_index\\core\\instrumentation\\dispatcher.py:368\u001b[39m, in \u001b[36mDispatcher.span.<locals>.async_wrapper\u001b[39m\u001b[34m(func, instance, args, kwargs)\u001b[39m\n\u001b[32m    360\u001b[39m \u001b[38;5;28mself\u001b[39m.span_enter(\n\u001b[32m    361\u001b[39m     id_=id_,\n\u001b[32m    362\u001b[39m     bound_args=bound_args,\n\u001b[32m   (...)\u001b[39m\u001b[32m    365\u001b[39m     tags=tags,\n\u001b[32m    366\u001b[39m )\n\u001b[32m    367\u001b[39m \u001b[38;5;28;01mtry\u001b[39;00m:\n\u001b[32m--> \u001b[39m\u001b[32m368\u001b[39m     result = \u001b[38;5;28;01mawait\u001b[39;00m func(*args, **kwargs)\n\u001b[32m    369\u001b[39m \u001b[38;5;28;01mexcept\u001b[39;00m \u001b[38;5;167;01mBaseException\u001b[39;00m \u001b[38;5;28;01mas\u001b[39;00m e:\n\u001b[32m    370\u001b[39m     \u001b[38;5;28mself\u001b[39m.event(SpanDropEvent(span_id=id_, err_str=\u001b[38;5;28mstr\u001b[39m(e)))\n",
      "\u001b[36mFile \u001b[39m\u001b[32mc:\\Users\\Shawon\\AppData\\Local\\pypoetry\\Cache\\virtualenvs\\brainstation-hGinJSOe-py3.11\\Lib\\site-packages\\llama_index\\core\\extractors\\metadata_extractors.py:325\u001b[39m, in \u001b[36mQuestionsAnsweredExtractor.aextract\u001b[39m\u001b[34m(self, nodes)\u001b[39m\n\u001b[32m    322\u001b[39m \u001b[38;5;28;01mfor\u001b[39;00m node \u001b[38;5;129;01min\u001b[39;00m nodes:\n\u001b[32m    323\u001b[39m     questions_jobs.append(\u001b[38;5;28mself\u001b[39m._aextract_questions_from_node(node))\n\u001b[32m--> \u001b[39m\u001b[32m325\u001b[39m metadata_list: List[Dict] = \u001b[38;5;28;01mawait\u001b[39;00m run_jobs(\n\u001b[32m    326\u001b[39m     questions_jobs, show_progress=\u001b[38;5;28mself\u001b[39m.show_progress, workers=\u001b[38;5;28mself\u001b[39m.num_workers\n\u001b[32m    327\u001b[39m )\n\u001b[32m    329\u001b[39m \u001b[38;5;28;01mreturn\u001b[39;00m metadata_list\n",
      "\u001b[36mFile \u001b[39m\u001b[32mc:\\Users\\Shawon\\AppData\\Local\\pypoetry\\Cache\\virtualenvs\\brainstation-hGinJSOe-py3.11\\Lib\\site-packages\\llama_index\\core\\instrumentation\\dispatcher.py:368\u001b[39m, in \u001b[36mDispatcher.span.<locals>.async_wrapper\u001b[39m\u001b[34m(func, instance, args, kwargs)\u001b[39m\n\u001b[32m    360\u001b[39m \u001b[38;5;28mself\u001b[39m.span_enter(\n\u001b[32m    361\u001b[39m     id_=id_,\n\u001b[32m    362\u001b[39m     bound_args=bound_args,\n\u001b[32m   (...)\u001b[39m\u001b[32m    365\u001b[39m     tags=tags,\n\u001b[32m    366\u001b[39m )\n\u001b[32m    367\u001b[39m \u001b[38;5;28;01mtry\u001b[39;00m:\n\u001b[32m--> \u001b[39m\u001b[32m368\u001b[39m     result = \u001b[38;5;28;01mawait\u001b[39;00m func(*args, **kwargs)\n\u001b[32m    369\u001b[39m \u001b[38;5;28;01mexcept\u001b[39;00m \u001b[38;5;167;01mBaseException\u001b[39;00m \u001b[38;5;28;01mas\u001b[39;00m e:\n\u001b[32m    370\u001b[39m     \u001b[38;5;28mself\u001b[39m.event(SpanDropEvent(span_id=id_, err_str=\u001b[38;5;28mstr\u001b[39m(e)))\n",
      "\u001b[36mFile \u001b[39m\u001b[32mc:\\Users\\Shawon\\AppData\\Local\\pypoetry\\Cache\\virtualenvs\\brainstation-hGinJSOe-py3.11\\Lib\\site-packages\\llama_index\\core\\async_utils.py:146\u001b[39m, in \u001b[36mrun_jobs\u001b[39m\u001b[34m(jobs, show_progress, workers, desc)\u001b[39m\n\u001b[32m    143\u001b[39m \u001b[38;5;28;01mif\u001b[39;00m show_progress:\n\u001b[32m    144\u001b[39m     \u001b[38;5;28;01mfrom\u001b[39;00m\u001b[38;5;250m \u001b[39m\u001b[34;01mtqdm\u001b[39;00m\u001b[34;01m.\u001b[39;00m\u001b[34;01masyncio\u001b[39;00m\u001b[38;5;250m \u001b[39m\u001b[38;5;28;01mimport\u001b[39;00m tqdm_asyncio\n\u001b[32m--> \u001b[39m\u001b[32m146\u001b[39m     results = \u001b[38;5;28;01mawait\u001b[39;00m tqdm_asyncio.gather(*pool_jobs, desc=desc)\n\u001b[32m    147\u001b[39m \u001b[38;5;28;01melse\u001b[39;00m:\n\u001b[32m    148\u001b[39m     results = \u001b[38;5;28;01mawait\u001b[39;00m asyncio.gather(*pool_jobs)\n",
      "\u001b[36mFile \u001b[39m\u001b[32mc:\\Users\\Shawon\\AppData\\Local\\pypoetry\\Cache\\virtualenvs\\brainstation-hGinJSOe-py3.11\\Lib\\site-packages\\tqdm\\asyncio.py:79\u001b[39m, in \u001b[36mtqdm_asyncio.gather\u001b[39m\u001b[34m(cls, loop, timeout, total, *fs, **tqdm_kwargs)\u001b[39m\n\u001b[32m     76\u001b[39m     \u001b[38;5;28;01mreturn\u001b[39;00m i, \u001b[38;5;28;01mawait\u001b[39;00m f\n\u001b[32m     78\u001b[39m ifs = [wrap_awaitable(i, f) \u001b[38;5;28;01mfor\u001b[39;00m i, f \u001b[38;5;129;01min\u001b[39;00m \u001b[38;5;28menumerate\u001b[39m(fs)]\n\u001b[32m---> \u001b[39m\u001b[32m79\u001b[39m res = [\u001b[38;5;28;01mawait\u001b[39;00m f \u001b[38;5;28;01mfor\u001b[39;00m f \u001b[38;5;129;01min\u001b[39;00m \u001b[38;5;28mcls\u001b[39m.as_completed(ifs, loop=loop, timeout=timeout,\n\u001b[32m     80\u001b[39m                                          total=total, **tqdm_kwargs)]\n\u001b[32m     81\u001b[39m \u001b[38;5;28;01mreturn\u001b[39;00m [i \u001b[38;5;28;01mfor\u001b[39;00m _, i \u001b[38;5;129;01min\u001b[39;00m \u001b[38;5;28msorted\u001b[39m(res)]\n",
      "\u001b[36mFile \u001b[39m\u001b[32m~\\.pyenv\\pyenv-win\\versions\\3.12.8\\Lib\\asyncio\\tasks.py:631\u001b[39m, in \u001b[36mas_completed.<locals>._wait_for_one\u001b[39m\u001b[34m()\u001b[39m\n\u001b[32m    628\u001b[39m \u001b[38;5;28;01mif\u001b[39;00m f \u001b[38;5;129;01mis\u001b[39;00m \u001b[38;5;28;01mNone\u001b[39;00m:\n\u001b[32m    629\u001b[39m     \u001b[38;5;66;03m# Dummy value from _on_timeout().\u001b[39;00m\n\u001b[32m    630\u001b[39m     \u001b[38;5;28;01mraise\u001b[39;00m exceptions.TimeoutError\n\u001b[32m--> \u001b[39m\u001b[32m631\u001b[39m \u001b[38;5;28;01mreturn\u001b[39;00m \u001b[43mf\u001b[49m\u001b[43m.\u001b[49m\u001b[43mresult\u001b[49m\u001b[43m(\u001b[49m\u001b[43m)\u001b[49m\n",
      "\u001b[36mFile \u001b[39m\u001b[32m~\\.pyenv\\pyenv-win\\versions\\3.12.8\\Lib\\asyncio\\futures.py:202\u001b[39m, in \u001b[36mFuture.result\u001b[39m\u001b[34m(self)\u001b[39m\n\u001b[32m    200\u001b[39m \u001b[38;5;28mself\u001b[39m.__log_traceback = \u001b[38;5;28;01mFalse\u001b[39;00m\n\u001b[32m    201\u001b[39m \u001b[38;5;28;01mif\u001b[39;00m \u001b[38;5;28mself\u001b[39m._exception \u001b[38;5;129;01mis\u001b[39;00m \u001b[38;5;129;01mnot\u001b[39;00m \u001b[38;5;28;01mNone\u001b[39;00m:\n\u001b[32m--> \u001b[39m\u001b[32m202\u001b[39m     \u001b[38;5;28;01mraise\u001b[39;00m \u001b[38;5;28mself\u001b[39m._exception.with_traceback(\u001b[38;5;28mself\u001b[39m._exception_tb)\n\u001b[32m    203\u001b[39m \u001b[38;5;28;01mreturn\u001b[39;00m \u001b[38;5;28mself\u001b[39m._result\n",
      "\u001b[36mFile \u001b[39m\u001b[32m~\\.pyenv\\pyenv-win\\versions\\3.12.8\\Lib\\asyncio\\tasks.py:314\u001b[39m, in \u001b[36mTask.__step_run_and_handle_result\u001b[39m\u001b[34m(***failed resolving arguments***)\u001b[39m\n\u001b[32m    310\u001b[39m \u001b[38;5;28;01mtry\u001b[39;00m:\n\u001b[32m    311\u001b[39m     \u001b[38;5;28;01mif\u001b[39;00m exc \u001b[38;5;129;01mis\u001b[39;00m \u001b[38;5;28;01mNone\u001b[39;00m:\n\u001b[32m    312\u001b[39m         \u001b[38;5;66;03m# We use the `send` method directly, because coroutines\u001b[39;00m\n\u001b[32m    313\u001b[39m         \u001b[38;5;66;03m# don't have `__iter__` and `__next__` methods.\u001b[39;00m\n\u001b[32m--> \u001b[39m\u001b[32m314\u001b[39m         result = \u001b[43mcoro\u001b[49m\u001b[43m.\u001b[49m\u001b[43msend\u001b[49m\u001b[43m(\u001b[49m\u001b[38;5;28;43;01mNone\u001b[39;49;00m\u001b[43m)\u001b[49m\n\u001b[32m    315\u001b[39m     \u001b[38;5;28;01melse\u001b[39;00m:\n\u001b[32m    316\u001b[39m         result = coro.throw(exc)\n",
      "\u001b[36mFile \u001b[39m\u001b[32mc:\\Users\\Shawon\\AppData\\Local\\pypoetry\\Cache\\virtualenvs\\brainstation-hGinJSOe-py3.11\\Lib\\site-packages\\tqdm\\asyncio.py:76\u001b[39m, in \u001b[36mtqdm_asyncio.gather.<locals>.wrap_awaitable\u001b[39m\u001b[34m(i, f)\u001b[39m\n\u001b[32m     75\u001b[39m \u001b[38;5;28;01masync\u001b[39;00m \u001b[38;5;28;01mdef\u001b[39;00m\u001b[38;5;250m \u001b[39m\u001b[34mwrap_awaitable\u001b[39m(i, f):\n\u001b[32m---> \u001b[39m\u001b[32m76\u001b[39m     \u001b[38;5;28;01mreturn\u001b[39;00m i, \u001b[38;5;28;01mawait\u001b[39;00m f\n",
      "\u001b[36mFile \u001b[39m\u001b[32mc:\\Users\\Shawon\\AppData\\Local\\pypoetry\\Cache\\virtualenvs\\brainstation-hGinJSOe-py3.11\\Lib\\site-packages\\llama_index\\core\\instrumentation\\dispatcher.py:368\u001b[39m, in \u001b[36mDispatcher.span.<locals>.async_wrapper\u001b[39m\u001b[34m(func, instance, args, kwargs)\u001b[39m\n\u001b[32m    360\u001b[39m \u001b[38;5;28mself\u001b[39m.span_enter(\n\u001b[32m    361\u001b[39m     id_=id_,\n\u001b[32m    362\u001b[39m     bound_args=bound_args,\n\u001b[32m   (...)\u001b[39m\u001b[32m    365\u001b[39m     tags=tags,\n\u001b[32m    366\u001b[39m )\n\u001b[32m    367\u001b[39m \u001b[38;5;28;01mtry\u001b[39;00m:\n\u001b[32m--> \u001b[39m\u001b[32m368\u001b[39m     result = \u001b[38;5;28;01mawait\u001b[39;00m func(*args, **kwargs)\n\u001b[32m    369\u001b[39m \u001b[38;5;28;01mexcept\u001b[39;00m \u001b[38;5;167;01mBaseException\u001b[39;00m \u001b[38;5;28;01mas\u001b[39;00m e:\n\u001b[32m    370\u001b[39m     \u001b[38;5;28mself\u001b[39m.event(SpanDropEvent(span_id=id_, err_str=\u001b[38;5;28mstr\u001b[39m(e)))\n",
      "\u001b[36mFile \u001b[39m\u001b[32mc:\\Users\\Shawon\\AppData\\Local\\pypoetry\\Cache\\virtualenvs\\brainstation-hGinJSOe-py3.11\\Lib\\site-packages\\llama_index\\core\\async_utils.py:139\u001b[39m, in \u001b[36mrun_jobs.<locals>.worker\u001b[39m\u001b[34m(job)\u001b[39m\n\u001b[32m    136\u001b[39m \u001b[38;5;129m@dispatcher\u001b[39m.span\n\u001b[32m    137\u001b[39m \u001b[38;5;28;01masync\u001b[39;00m \u001b[38;5;28;01mdef\u001b[39;00m\u001b[38;5;250m \u001b[39m\u001b[34mworker\u001b[39m(job: Coroutine) -> Any:\n\u001b[32m    138\u001b[39m     \u001b[38;5;28;01masync\u001b[39;00m \u001b[38;5;28;01mwith\u001b[39;00m semaphore:\n\u001b[32m--> \u001b[39m\u001b[32m139\u001b[39m         \u001b[38;5;28;01mreturn\u001b[39;00m \u001b[38;5;28;01mawait\u001b[39;00m job\n",
      "\u001b[36mFile \u001b[39m\u001b[32mc:\\Users\\Shawon\\AppData\\Local\\pypoetry\\Cache\\virtualenvs\\brainstation-hGinJSOe-py3.11\\Lib\\site-packages\\llama_index\\core\\extractors\\metadata_extractors.py:314\u001b[39m, in \u001b[36mQuestionsAnsweredExtractor._aextract_questions_from_node\u001b[39m\u001b[34m(self, node)\u001b[39m\n\u001b[32m    312\u001b[39m context_str = node.get_content(metadata_mode=\u001b[38;5;28mself\u001b[39m.metadata_mode)\n\u001b[32m    313\u001b[39m prompt = PromptTemplate(template=\u001b[38;5;28mself\u001b[39m.prompt_template)\n\u001b[32m--> \u001b[39m\u001b[32m314\u001b[39m questions = \u001b[38;5;28;01mawait\u001b[39;00m \u001b[38;5;28mself\u001b[39m.llm.apredict(\n\u001b[32m    315\u001b[39m     prompt, num_questions=\u001b[38;5;28mself\u001b[39m.questions, context_str=context_str\n\u001b[32m    316\u001b[39m )\n\u001b[32m    318\u001b[39m \u001b[38;5;28;01mreturn\u001b[39;00m {\u001b[33m\"\u001b[39m\u001b[33mquestions_this_excerpt_can_answer\u001b[39m\u001b[33m\"\u001b[39m: questions.strip()}\n",
      "\u001b[36mFile \u001b[39m\u001b[32mc:\\Users\\Shawon\\AppData\\Local\\pypoetry\\Cache\\virtualenvs\\brainstation-hGinJSOe-py3.11\\Lib\\site-packages\\llama_index\\core\\instrumentation\\dispatcher.py:368\u001b[39m, in \u001b[36mDispatcher.span.<locals>.async_wrapper\u001b[39m\u001b[34m(func, instance, args, kwargs)\u001b[39m\n\u001b[32m    360\u001b[39m \u001b[38;5;28mself\u001b[39m.span_enter(\n\u001b[32m    361\u001b[39m     id_=id_,\n\u001b[32m    362\u001b[39m     bound_args=bound_args,\n\u001b[32m   (...)\u001b[39m\u001b[32m    365\u001b[39m     tags=tags,\n\u001b[32m    366\u001b[39m )\n\u001b[32m    367\u001b[39m \u001b[38;5;28;01mtry\u001b[39;00m:\n\u001b[32m--> \u001b[39m\u001b[32m368\u001b[39m     result = \u001b[38;5;28;01mawait\u001b[39;00m func(*args, **kwargs)\n\u001b[32m    369\u001b[39m \u001b[38;5;28;01mexcept\u001b[39;00m \u001b[38;5;167;01mBaseException\u001b[39;00m \u001b[38;5;28;01mas\u001b[39;00m e:\n\u001b[32m    370\u001b[39m     \u001b[38;5;28mself\u001b[39m.event(SpanDropEvent(span_id=id_, err_str=\u001b[38;5;28mstr\u001b[39m(e)))\n",
      "\u001b[36mFile \u001b[39m\u001b[32mc:\\Users\\Shawon\\AppData\\Local\\pypoetry\\Cache\\virtualenvs\\brainstation-hGinJSOe-py3.11\\Lib\\site-packages\\llama_index\\core\\llms\\llm.py:694\u001b[39m, in \u001b[36mLLM.apredict\u001b[39m\u001b[34m(self, prompt, **prompt_args)\u001b[39m\n\u001b[32m    692\u001b[39m \u001b[38;5;28;01mif\u001b[39;00m \u001b[38;5;28mself\u001b[39m.metadata.is_chat_model:\n\u001b[32m    693\u001b[39m     messages = \u001b[38;5;28mself\u001b[39m._get_messages(prompt, **prompt_args)\n\u001b[32m--> \u001b[39m\u001b[32m694\u001b[39m     chat_response = \u001b[38;5;28;01mawait\u001b[39;00m \u001b[38;5;28mself\u001b[39m.achat(messages)\n\u001b[32m    695\u001b[39m     output = chat_response.message.content \u001b[38;5;129;01mor\u001b[39;00m \u001b[33m\"\u001b[39m\u001b[33m\"\u001b[39m\n\u001b[32m    696\u001b[39m \u001b[38;5;28;01melse\u001b[39;00m:\n",
      "\u001b[36mFile \u001b[39m\u001b[32mc:\\Users\\Shawon\\AppData\\Local\\pypoetry\\Cache\\virtualenvs\\brainstation-hGinJSOe-py3.11\\Lib\\site-packages\\llama_index\\core\\instrumentation\\dispatcher.py:368\u001b[39m, in \u001b[36mDispatcher.span.<locals>.async_wrapper\u001b[39m\u001b[34m(func, instance, args, kwargs)\u001b[39m\n\u001b[32m    360\u001b[39m \u001b[38;5;28mself\u001b[39m.span_enter(\n\u001b[32m    361\u001b[39m     id_=id_,\n\u001b[32m    362\u001b[39m     bound_args=bound_args,\n\u001b[32m   (...)\u001b[39m\u001b[32m    365\u001b[39m     tags=tags,\n\u001b[32m    366\u001b[39m )\n\u001b[32m    367\u001b[39m \u001b[38;5;28;01mtry\u001b[39;00m:\n\u001b[32m--> \u001b[39m\u001b[32m368\u001b[39m     result = \u001b[38;5;28;01mawait\u001b[39;00m func(*args, **kwargs)\n\u001b[32m    369\u001b[39m \u001b[38;5;28;01mexcept\u001b[39;00m \u001b[38;5;167;01mBaseException\u001b[39;00m \u001b[38;5;28;01mas\u001b[39;00m e:\n\u001b[32m    370\u001b[39m     \u001b[38;5;28mself\u001b[39m.event(SpanDropEvent(span_id=id_, err_str=\u001b[38;5;28mstr\u001b[39m(e)))\n",
      "\u001b[36mFile \u001b[39m\u001b[32mc:\\Users\\Shawon\\AppData\\Local\\pypoetry\\Cache\\virtualenvs\\brainstation-hGinJSOe-py3.11\\Lib\\site-packages\\llama_index\\core\\llms\\callbacks.py:75\u001b[39m, in \u001b[36mllm_chat_callback.<locals>.wrap.<locals>.wrapped_async_llm_chat\u001b[39m\u001b[34m(_self, messages, **kwargs)\u001b[39m\n\u001b[32m     66\u001b[39m event_id = callback_manager.on_event_start(\n\u001b[32m     67\u001b[39m     CBEventType.LLM,\n\u001b[32m     68\u001b[39m     payload={\n\u001b[32m   (...)\u001b[39m\u001b[32m     72\u001b[39m     },\n\u001b[32m     73\u001b[39m )\n\u001b[32m     74\u001b[39m \u001b[38;5;28;01mtry\u001b[39;00m:\n\u001b[32m---> \u001b[39m\u001b[32m75\u001b[39m     f_return_val = \u001b[38;5;28;01mawait\u001b[39;00m f(_self, messages, **kwargs)\n\u001b[32m     76\u001b[39m \u001b[38;5;28;01mexcept\u001b[39;00m \u001b[38;5;167;01mBaseException\u001b[39;00m \u001b[38;5;28;01mas\u001b[39;00m e:\n\u001b[32m     77\u001b[39m     callback_manager.on_event_end(\n\u001b[32m     78\u001b[39m         CBEventType.LLM,\n\u001b[32m     79\u001b[39m         payload={EventPayload.EXCEPTION: e},\n\u001b[32m     80\u001b[39m         event_id=event_id,\n\u001b[32m     81\u001b[39m     )\n",
      "\u001b[36mFile \u001b[39m\u001b[32mc:\\Users\\Shawon\\AppData\\Local\\pypoetry\\Cache\\virtualenvs\\brainstation-hGinJSOe-py3.11\\Lib\\site-packages\\llama_index\\llms\\ollama\\base.py:481\u001b[39m, in \u001b[36mOllama.achat\u001b[39m\u001b[34m(self, messages, **kwargs)\u001b[39m\n\u001b[32m    478\u001b[39m tools = kwargs.pop(\u001b[33m\"\u001b[39m\u001b[33mtools\u001b[39m\u001b[33m\"\u001b[39m, \u001b[38;5;28;01mNone\u001b[39;00m)\n\u001b[32m    479\u001b[39m \u001b[38;5;28mformat\u001b[39m = kwargs.pop(\u001b[33m\"\u001b[39m\u001b[33mformat\u001b[39m\u001b[33m\"\u001b[39m, \u001b[33m\"\u001b[39m\u001b[33mjson\u001b[39m\u001b[33m\"\u001b[39m \u001b[38;5;28;01mif\u001b[39;00m \u001b[38;5;28mself\u001b[39m.json_mode \u001b[38;5;28;01melse\u001b[39;00m \u001b[38;5;28;01mNone\u001b[39;00m)\n\u001b[32m--> \u001b[39m\u001b[32m481\u001b[39m response = \u001b[38;5;28;01mawait\u001b[39;00m \u001b[38;5;28mself\u001b[39m.async_client.chat(\n\u001b[32m    482\u001b[39m     model=\u001b[38;5;28mself\u001b[39m.model,\n\u001b[32m    483\u001b[39m     messages=ollama_messages,\n\u001b[32m    484\u001b[39m     stream=\u001b[38;5;28;01mFalse\u001b[39;00m,\n\u001b[32m    485\u001b[39m     \u001b[38;5;28mformat\u001b[39m=\u001b[38;5;28mformat\u001b[39m,\n\u001b[32m    486\u001b[39m     tools=tools,\n\u001b[32m    487\u001b[39m     options=\u001b[38;5;28mself\u001b[39m._model_kwargs,\n\u001b[32m    488\u001b[39m     keep_alive=\u001b[38;5;28mself\u001b[39m.keep_alive,\n\u001b[32m    489\u001b[39m )\n\u001b[32m    491\u001b[39m response = \u001b[38;5;28mdict\u001b[39m(response)\n\u001b[32m    493\u001b[39m tool_calls = response[\u001b[33m\"\u001b[39m\u001b[33mmessage\u001b[39m\u001b[33m\"\u001b[39m].get(\u001b[33m\"\u001b[39m\u001b[33mtool_calls\u001b[39m\u001b[33m\"\u001b[39m, [])\n",
      "\u001b[36mFile \u001b[39m\u001b[32mc:\\Users\\Shawon\\AppData\\Local\\pypoetry\\Cache\\virtualenvs\\brainstation-hGinJSOe-py3.11\\Lib\\site-packages\\ollama\\_client.py:837\u001b[39m, in \u001b[36mAsyncClient.chat\u001b[39m\u001b[34m(self, model, messages, tools, stream, format, options, keep_alive)\u001b[39m\n\u001b[32m    792\u001b[39m \u001b[38;5;28;01masync\u001b[39;00m \u001b[38;5;28;01mdef\u001b[39;00m\u001b[38;5;250m \u001b[39m\u001b[34mchat\u001b[39m(\n\u001b[32m    793\u001b[39m   \u001b[38;5;28mself\u001b[39m,\n\u001b[32m    794\u001b[39m   model: \u001b[38;5;28mstr\u001b[39m = \u001b[33m'\u001b[39m\u001b[33m'\u001b[39m,\n\u001b[32m   (...)\u001b[39m\u001b[32m    801\u001b[39m   keep_alive: Optional[Union[\u001b[38;5;28mfloat\u001b[39m, \u001b[38;5;28mstr\u001b[39m]] = \u001b[38;5;28;01mNone\u001b[39;00m,\n\u001b[32m    802\u001b[39m ) -> Union[ChatResponse, AsyncIterator[ChatResponse]]:\n\u001b[32m    803\u001b[39m \u001b[38;5;250m  \u001b[39m\u001b[33;03m\"\"\"\u001b[39;00m\n\u001b[32m    804\u001b[39m \u001b[33;03m  Create a chat response using the requested model.\u001b[39;00m\n\u001b[32m    805\u001b[39m \n\u001b[32m   (...)\u001b[39m\u001b[32m    834\u001b[39m \u001b[33;03m  Returns `ChatResponse` if `stream` is `False`, otherwise returns an asynchronous `ChatResponse` generator.\u001b[39;00m\n\u001b[32m    835\u001b[39m \u001b[33;03m  \"\"\"\u001b[39;00m\n\u001b[32m--> \u001b[39m\u001b[32m837\u001b[39m   \u001b[38;5;28;01mreturn\u001b[39;00m \u001b[38;5;28;01mawait\u001b[39;00m \u001b[38;5;28mself\u001b[39m._request(\n\u001b[32m    838\u001b[39m     ChatResponse,\n\u001b[32m    839\u001b[39m     \u001b[33m'\u001b[39m\u001b[33mPOST\u001b[39m\u001b[33m'\u001b[39m,\n\u001b[32m    840\u001b[39m     \u001b[33m'\u001b[39m\u001b[33m/api/chat\u001b[39m\u001b[33m'\u001b[39m,\n\u001b[32m    841\u001b[39m     json=ChatRequest(\n\u001b[32m    842\u001b[39m       model=model,\n\u001b[32m    843\u001b[39m       messages=[message \u001b[38;5;28;01mfor\u001b[39;00m message \u001b[38;5;129;01min\u001b[39;00m _copy_messages(messages)],\n\u001b[32m    844\u001b[39m       tools=[tool \u001b[38;5;28;01mfor\u001b[39;00m tool \u001b[38;5;129;01min\u001b[39;00m _copy_tools(tools)],\n\u001b[32m    845\u001b[39m       stream=stream,\n\u001b[32m    846\u001b[39m       \u001b[38;5;28mformat\u001b[39m=\u001b[38;5;28mformat\u001b[39m,\n\u001b[32m    847\u001b[39m       options=options,\n\u001b[32m    848\u001b[39m       keep_alive=keep_alive,\n\u001b[32m    849\u001b[39m     ).model_dump(exclude_none=\u001b[38;5;28;01mTrue\u001b[39;00m),\n\u001b[32m    850\u001b[39m     stream=stream,\n\u001b[32m    851\u001b[39m   )\n",
      "\u001b[36mFile \u001b[39m\u001b[32mc:\\Users\\Shawon\\AppData\\Local\\pypoetry\\Cache\\virtualenvs\\brainstation-hGinJSOe-py3.11\\Lib\\site-packages\\ollama\\_client.py:682\u001b[39m, in \u001b[36mAsyncClient._request\u001b[39m\u001b[34m(self, cls, stream, *args, **kwargs)\u001b[39m\n\u001b[32m    678\u001b[39m         \u001b[38;5;28;01myield\u001b[39;00m \u001b[38;5;28mcls\u001b[39m(**part)\n\u001b[32m    680\u001b[39m   \u001b[38;5;28;01mreturn\u001b[39;00m inner()\n\u001b[32m--> \u001b[39m\u001b[32m682\u001b[39m \u001b[38;5;28;01mreturn\u001b[39;00m \u001b[38;5;28mcls\u001b[39m(**(\u001b[38;5;28;01mawait\u001b[39;00m \u001b[38;5;28mself\u001b[39m._request_raw(*args, **kwargs)).json())\n",
      "\u001b[36mFile \u001b[39m\u001b[32mc:\\Users\\Shawon\\AppData\\Local\\pypoetry\\Cache\\virtualenvs\\brainstation-hGinJSOe-py3.11\\Lib\\site-packages\\ollama\\_client.py:628\u001b[39m, in \u001b[36mAsyncClient._request_raw\u001b[39m\u001b[34m(self, *args, **kwargs)\u001b[39m\n\u001b[32m    626\u001b[39m   \u001b[38;5;28;01mraise\u001b[39;00m ResponseError(e.response.text, e.response.status_code) \u001b[38;5;28;01mfrom\u001b[39;00m\u001b[38;5;250m \u001b[39m\u001b[38;5;28;01mNone\u001b[39;00m\n\u001b[32m    627\u001b[39m \u001b[38;5;28;01mexcept\u001b[39;00m httpx.ConnectError:\n\u001b[32m--> \u001b[39m\u001b[32m628\u001b[39m   \u001b[38;5;28;01mraise\u001b[39;00m \u001b[38;5;167;01mConnectionError\u001b[39;00m(CONNECTION_ERROR_MESSAGE) \u001b[38;5;28;01mfrom\u001b[39;00m\u001b[38;5;250m \u001b[39m\u001b[38;5;28;01mNone\u001b[39;00m\n",
      "\u001b[31mConnectionError\u001b[39m: Failed to connect to Ollama. Please check that Ollama is downloaded, running and accessible. https://ollama.com/download"
     ]
    }
   ],
   "source": [
    "%%time\n",
    "\n",
    "# 2. Load documents from directory\n",
    "input_dir = \"./knowledge/\"  # replace with your directory path\n",
    "reader = SimpleDirectoryReader(input_dir=input_dir)\n",
    "documents = reader.load_data()  # returns a list of Document objects\n",
    "\n",
    "# 3. Build an ingestion pipeline with metadata extractors\n",
    "pipeline = IngestionPipeline(transformations=[\n",
    "    SentenceSplitter(chunk_size=325, chunk_overlap=50),                       # chunking\n",
    "    QuestionsAnsweredExtractor(questions=3),  # up to 3 QA pairs\n",
    "    SummaryExtractor(summaries=[\"self\"]),     # chunk summary\n",
    "    KeywordExtractor(keywords=10),            # up to 10 keywords\n",
    "])\n",
    "nodes = pipeline.run(documents=documents)\n",
    "\n",
    "# 4. Set up Redis vector store\n",
    "#    Install and configure Redis server with RediSearch module\n",
    "redis_host = \"localhost\"\n",
    "redis_port = 6379\n",
    "redis_password = None  # set if your Redis requires auth\n",
    "index_name = \"product_catalog_vdb\"\n",
    "\n",
    "vector_store = RedisVectorStore(\n",
    "    host=redis_host,\n",
    "    port=redis_port,\n",
    "    password=redis_password,\n",
    "    index_name=index_name,\n",
    "    embedding_function=embed_model\n",
    ")\n",
    "\n",
    "# 5. Assemble the index, persist, and query\n",
    "service_context = ServiceContext.from_defaults(embed_model=embed_model)\n",
    "storage_context = StorageContext.from_defaults(vector_store=vector_store)\n",
    "\n",
    "index = VectorStoreIndex.from_nodes(\n",
    "    nodes,\n",
    "    service_context=service_context,\n",
    "    storage_context=storage_context,\n",
    ")\n",
    "\n",
    "# 6. Configure BM25 retriever on the raw nodes\n",
    "bm25_retriever = BM25Retriever(\n",
    "    nodes=nodes,\n",
    "    k=5  # number of passages to retrieve\n",
    ")\n",
    "\n",
    "# 7. Build a hybrid query engine combining BM25 and Dense retrieval\n",
    "#    Here we use RetrieverQueryEngine to plug in BM25 retriever\n",
    "query_engine_bm25 = RetrieverQueryEngine(\n",
    "    retriever=bm25_retriever,\n",
    "    llm=llm,\n",
    ")\n",
    "\n",
    "# 8. Example query functions\n",
    "def query_vector(query_text: str, top_k: int = 5):\n",
    "    # Dense vector retrieval\n",
    "    q_engine = index.as_query_engine(k=top_k)\n",
    "    return q_engine.query(query_text)\n",
    "\n",
    "\n",
    "def query_bm25(query_text: str):\n",
    "    # BM25 retrieval\n",
    "    return query_engine_bm25.query(query_text)\n",
    "\n",
    "# Usage examples:\n",
    "# dense_resp = query_vector(\"Key feature of document X?\")\n",
    "# bm25_resp = query_bm25(\"Key feature of document X?\")\n",
    "# print(dense_resp)\n",
    "# print(bm25_resp)\n"
   ]
  },
  {
   "cell_type": "code",
   "execution_count": null,
   "id": "8db63d91",
   "metadata": {},
   "outputs": [],
   "source": [
    "# 6. Simple semantic query\n",
    "query_engine = index.as_query_engine()\n",
    "result = query_engine.query(\"What is the main topic across these documents?\")\n",
    "print(result)"
   ]
  },
  {
   "cell_type": "code",
   "execution_count": null,
   "id": "87fa5ec6",
   "metadata": {},
   "outputs": [],
   "source": []
  },
  {
   "cell_type": "code",
   "execution_count": null,
   "id": "c3ffb6ce",
   "metadata": {},
   "outputs": [],
   "source": []
  },
  {
   "cell_type": "code",
   "execution_count": null,
   "id": "1c1a5030",
   "metadata": {},
   "outputs": [],
   "source": []
  },
  {
   "cell_type": "code",
   "execution_count": null,
   "id": "14e43a43",
   "metadata": {},
   "outputs": [],
   "source": []
  },
  {
   "cell_type": "code",
   "execution_count": null,
   "id": "a6654d45",
   "metadata": {},
   "outputs": [],
   "source": []
  },
  {
   "cell_type": "code",
   "execution_count": null,
   "id": "5d9192d6",
   "metadata": {},
   "outputs": [],
   "source": []
  },
  {
   "cell_type": "code",
   "execution_count": null,
   "id": "d8416022",
   "metadata": {},
   "outputs": [],
   "source": []
  },
  {
   "cell_type": "code",
   "execution_count": null,
   "id": "7e4d1e61",
   "metadata": {},
   "outputs": [],
   "source": []
  },
  {
   "cell_type": "code",
   "execution_count": null,
   "id": "c234b584",
   "metadata": {},
   "outputs": [],
   "source": []
  },
  {
   "cell_type": "code",
   "execution_count": 34,
   "id": "8f330748",
   "metadata": {},
   "outputs": [],
   "source": [
    "col_left = ['id_left',\n",
    " 'category_left',\n",
    " 'cluster_id_left',\n",
    " 'brand_left',\n",
    " 'title_left',\n",
    " 'description_left',\n",
    " 'price_left',\n",
    " 'specTableContent_left']\n",
    "\n",
    "col_right = ['id_right',\n",
    " 'category_right',\n",
    " 'cluster_id_right',\n",
    " 'brand_right',\n",
    " 'title_right',\n",
    " 'description_right',\n",
    " 'price_right',\n",
    " 'specTableContent_right']\n",
    "\n",
    "df_left = df[col_left]\n",
    "df_right = df[col_right]\n",
    "\n",
    "with open('combined_data.txt', 'w', encoding='utf-8') as file:\n",
    "    for _, row in df_left.iterrows():\n",
    "        # Combine 'product_type' and 'description' (replace with your actual column names)\n",
    "        combined_data = f\"Brand: {row['brand_left']}, Description: {row['description_left']}, Price: {row['price_left']}, Specs: {row['specTableContent_left']}\"\n",
    "        re.sub(r'\\s+', ' ', combined_data)\n",
    "        file.write(combined_data + '\\n')  # Write each combined entry to the text file\n",
    "\n",
    "    for _, row in df_right.iterrows():\n",
    "        # Combine 'product_type' and 'description' (replace with your actual column names)\n",
    "        combined_data = f\"Brand: {row['brand_right']}, Description: {row['description_right']}, Price: {row['price_right']}, Specs: {row['specTableContent_right']}\"\n",
    "        re.sub(r'\\s+', ' ', combined_data)\n",
    "        file.write(combined_data + '\\n')  # Write each combined entry to the text file"
   ]
  },
  {
   "cell_type": "code",
   "execution_count": null,
   "id": "f258607a",
   "metadata": {},
   "outputs": [],
   "source": [
    "metadata = {\n",
    "    \"titles\": extracted_titles,\n",
    "    \"questions\": questions,\n",
    "    \"summaries\": summaries,\n",
    "    \"keywords\": keywords,\n",
    "    \"entities\": entities\n",
    "}\n"
   ]
  },
  {
   "cell_type": "code",
   "execution_count": null,
   "id": "f405135f",
   "metadata": {},
   "outputs": [],
   "source": [
    "transformations = [\n",
    "    SentenceSplitter(),\n",
    "    QuestionsAnsweredExtractor(questions=3),\n",
    "    SummaryExtractor(summaries=[\"prev\", \"self\"]),\n",
    "    KeywordExtractor(keywords=10),\n",
    "    EntityExtractor(prediction_threshold=0.5),\n",
    "]"
   ]
  }
 ],
 "metadata": {
  "kernelspec": {
   "display_name": "hackathon",
   "language": "python",
   "name": "brainstation-py3.11"
  },
  "language_info": {
   "codemirror_mode": {
    "name": "ipython",
    "version": 3
   },
   "file_extension": ".py",
   "mimetype": "text/x-python",
   "name": "python",
   "nbconvert_exporter": "python",
   "pygments_lexer": "ipython3",
   "version": "3.12.8"
  }
 },
 "nbformat": 4,
 "nbformat_minor": 5
}
